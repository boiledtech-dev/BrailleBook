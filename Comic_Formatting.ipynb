{
  "nbformat": 4,
  "nbformat_minor": 0,
  "metadata": {
    "colab": {
      "name": "Comic Formatting.ipynb",
      "provenance": [],
      "collapsed_sections": [],
      "mount_file_id": "1JkTcAKKtYKlB9x-K-VHonDBDoBd-ZUOd",
      "authorship_tag": "ABX9TyMvOaJTEvFXOfAVeyWbZ8+K",
      "include_colab_link": true
    },
    "kernelspec": {
      "name": "python3",
      "display_name": "Python 3"
    },
    "language_info": {
      "name": "python"
    }
  },
  "cells": [
    {
      "cell_type": "markdown",
      "metadata": {
        "id": "view-in-github",
        "colab_type": "text"
      },
      "source": [
        "<a href=\"https://colab.research.google.com/github/boiledtech-dev/BrailleBook/blob/main/Comic_Formatting.ipynb\" target=\"_parent\"><img src=\"https://colab.research.google.com/assets/colab-badge.svg\" alt=\"Open In Colab\"/></a>"
      ]
    },
    {
      "cell_type": "markdown",
      "source": [
        "**Image Manipulation & Creating Constraints**"
      ],
      "metadata": {
        "id": "YfKoD2iRUdcF"
      }
    },
    {
      "cell_type": "markdown",
      "source": [
        "# Buiding a spreadsheet reader\n"
      ],
      "metadata": {
        "id": "Ef_yer-eUNzL"
      }
    },
    {
      "cell_type": "markdown",
      "source": [
        ""
      ],
      "metadata": {
        "id": "kzNMzX-jxpGH"
      }
    },
    {
      "cell_type": "code",
      "source": [
        "import pandas as pd\n",
        "import numpy as np"
      ],
      "metadata": {
        "id": "L7GAhAEwUpCo"
      },
      "execution_count": 2,
      "outputs": []
    },
    {
      "cell_type": "code",
      "source": [
        "import pandas as pd\n",
        "\n",
        "DEBUG = True\n",
        "\n",
        "class Bubble:\n",
        "  def __init__(self, content):\n",
        "    self.content = content\n",
        "\n",
        "\n",
        "  def __repr__(self):\n",
        "    return self.content\n",
        "\n",
        "class Content:\n",
        "  def __init__(self, row):\n",
        "    print(row)\n",
        "    self.path = row[0]\n",
        "    self.content = row[1]\n",
        "    self.bubbles = []\n",
        "\n",
        "    # process row to append bubbles\n",
        "    for index in range(1, len(row)):\n",
        "      if row[index] != \"nan\":\n",
        "        self.bubbles.append(Bubble(row[index]))\n",
        "\n",
        "  def __repr__(self):\n",
        "    return str((self.path , self.content))\n",
        "\n",
        "contents = []\n",
        "\n",
        "\n",
        "#BUBBLE_NUM\tWORDS\tFONT_SIZE\tFONT\n",
        "\n",
        "data = pd.read_csv(\"/Bubble num - Testing_test_test.csv\")\n",
        "records = data.to_records(index = False)\n",
        "\n",
        "print(\"Contents of the Dataframe : \")\n",
        "\n",
        "for record in records: \n",
        "  contents.append(Content(record))\n",
        "\n",
        "for content in contents:\n",
        "  print(content)\n",
        "\n",
        "\n"
      ],
      "metadata": {
        "colab": {
          "base_uri": "https://localhost:8080/"
        },
        "id": "ESFIZTxsmAte",
        "outputId": "81163881-09db-411b-dc89-43bc59a77c87"
      },
      "execution_count": 4,
      "outputs": [
        {
          "output_type": "stream",
          "name": "stdout",
          "text": [
            "Contents of the Dataframe : \n",
            "('path2', 'text 2.1', nan, nan)\n",
            "('path2', 'text 2.1')\n"
          ]
        }
      ]
    }
  ]
}